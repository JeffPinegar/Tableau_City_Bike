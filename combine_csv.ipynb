{
 "cells": [
  {
   "cell_type": "code",
   "execution_count": null,
   "metadata": {},
   "outputs": [],
   "source": [
    "# https://www.freecodecamp.org/news/how-to-combine-multiple-csv-files-with-8-lines-of-code-265183e0854/"
   ]
  },
  {
   "cell_type": "code",
   "execution_count": 1,
   "metadata": {},
   "outputs": [],
   "source": [
    "import os\n",
    "import glob\n",
    "import pandas as pd"
   ]
  },
  {
   "cell_type": "code",
   "execution_count": 2,
   "metadata": {},
   "outputs": [],
   "source": [
    "os.chdir(\"./Data/New York_Data\")"
   ]
  },
  {
   "cell_type": "code",
   "execution_count": 3,
   "metadata": {},
   "outputs": [],
   "source": [
    "extension = 'csv'\n",
    "all_filenames = [i for i in glob.glob('*.{}'.format(extension))]"
   ]
  },
  {
   "cell_type": "code",
   "execution_count": 4,
   "metadata": {},
   "outputs": [
    {
     "data": {
      "text/plain": [
       "['JC-202201-citibike-tripdata.csv',\n",
       " 'JC-202202-citibike-tripdata.csv',\n",
       " 'JC-202203-citibike-tripdata.csv',\n",
       " 'JC-202204-citibike-tripdata.csv',\n",
       " 'JC-202205-citibike-tripdata.csv',\n",
       " 'JC-202206-citibike-tripdata.csv',\n",
       " 'JC-202207-citbike-tripdata.csv',\n",
       " 'JC-202208-citibike-tripdata.csv',\n",
       " 'JC-202209-citibike-tripdata.csv',\n",
       " 'JC-202210-citibike-tripdata.csv',\n",
       " 'JC-202211-citibike-tripdata.csv',\n",
       " 'JC-202212-citibike-tripdata.csv']"
      ]
     },
     "execution_count": 4,
     "metadata": {},
     "output_type": "execute_result"
    }
   ],
   "source": [
    "all_filenames"
   ]
  },
  {
   "cell_type": "code",
   "execution_count": 5,
   "metadata": {},
   "outputs": [],
   "source": [
    "#combine all files in the list\n",
    "combined_csv = pd.concat([pd.read_csv(f) for f in all_filenames ])\n",
    "#export to csv\n",
    "combined_csv.to_csv( \"combined_csv.csv\", index=False, encoding='utf-8-sig')"
   ]
  },
  {
   "cell_type": "code",
   "execution_count": 17,
   "metadata": {},
   "outputs": [
    {
     "data": {
      "text/html": [
       "<div>\n",
       "<style scoped>\n",
       "    .dataframe tbody tr th:only-of-type {\n",
       "        vertical-align: middle;\n",
       "    }\n",
       "\n",
       "    .dataframe tbody tr th {\n",
       "        vertical-align: top;\n",
       "    }\n",
       "\n",
       "    .dataframe thead th {\n",
       "        text-align: right;\n",
       "    }\n",
       "</style>\n",
       "<table border=\"1\" class=\"dataframe\">\n",
       "  <thead>\n",
       "    <tr style=\"text-align: right;\">\n",
       "      <th></th>\n",
       "      <th>ride_id</th>\n",
       "      <th>rideable_type</th>\n",
       "      <th>started_at</th>\n",
       "      <th>ended_at</th>\n",
       "      <th>start_station_name</th>\n",
       "      <th>start_station_id</th>\n",
       "      <th>end_station_name</th>\n",
       "      <th>end_station_id</th>\n",
       "      <th>start_lat</th>\n",
       "      <th>start_lng</th>\n",
       "      <th>end_lat</th>\n",
       "      <th>end_lng</th>\n",
       "      <th>member_casual</th>\n",
       "    </tr>\n",
       "  </thead>\n",
       "  <tbody>\n",
       "    <tr>\n",
       "      <th>0</th>\n",
       "      <td>CA5837152804D4B5</td>\n",
       "      <td>electric_bike</td>\n",
       "      <td>2022-01-26 18:50:39</td>\n",
       "      <td>2022-01-26 18:51:53</td>\n",
       "      <td>12 St &amp; Sinatra Dr N</td>\n",
       "      <td>HB201</td>\n",
       "      <td>12 St &amp; Sinatra Dr N</td>\n",
       "      <td>HB201</td>\n",
       "      <td>40.750604</td>\n",
       "      <td>-74.024020</td>\n",
       "      <td>40.750604</td>\n",
       "      <td>-74.024020</td>\n",
       "      <td>member</td>\n",
       "    </tr>\n",
       "    <tr>\n",
       "      <th>1</th>\n",
       "      <td>BA06A5E45B6601D2</td>\n",
       "      <td>classic_bike</td>\n",
       "      <td>2022-01-28 13:14:07</td>\n",
       "      <td>2022-01-28 13:20:23</td>\n",
       "      <td>Essex Light Rail</td>\n",
       "      <td>JC038</td>\n",
       "      <td>Essex Light Rail</td>\n",
       "      <td>JC038</td>\n",
       "      <td>40.712774</td>\n",
       "      <td>-74.036486</td>\n",
       "      <td>40.712774</td>\n",
       "      <td>-74.036486</td>\n",
       "      <td>member</td>\n",
       "    </tr>\n",
       "    <tr>\n",
       "      <th>2</th>\n",
       "      <td>7B6827D7B9508D93</td>\n",
       "      <td>classic_bike</td>\n",
       "      <td>2022-01-10 19:55:13</td>\n",
       "      <td>2022-01-10 20:00:37</td>\n",
       "      <td>Essex Light Rail</td>\n",
       "      <td>JC038</td>\n",
       "      <td>Essex Light Rail</td>\n",
       "      <td>JC038</td>\n",
       "      <td>40.712774</td>\n",
       "      <td>-74.036486</td>\n",
       "      <td>40.712774</td>\n",
       "      <td>-74.036486</td>\n",
       "      <td>member</td>\n",
       "    </tr>\n",
       "    <tr>\n",
       "      <th>3</th>\n",
       "      <td>6E5864EA6FCEC90D</td>\n",
       "      <td>electric_bike</td>\n",
       "      <td>2022-01-26 07:54:57</td>\n",
       "      <td>2022-01-26 07:55:22</td>\n",
       "      <td>12 St &amp; Sinatra Dr N</td>\n",
       "      <td>HB201</td>\n",
       "      <td>12 St &amp; Sinatra Dr N</td>\n",
       "      <td>HB201</td>\n",
       "      <td>40.750604</td>\n",
       "      <td>-74.024020</td>\n",
       "      <td>40.750604</td>\n",
       "      <td>-74.024020</td>\n",
       "      <td>member</td>\n",
       "    </tr>\n",
       "    <tr>\n",
       "      <th>4</th>\n",
       "      <td>E24954255BBDE32D</td>\n",
       "      <td>electric_bike</td>\n",
       "      <td>2022-01-13 18:44:46</td>\n",
       "      <td>2022-01-13 18:45:43</td>\n",
       "      <td>12 St &amp; Sinatra Dr N</td>\n",
       "      <td>HB201</td>\n",
       "      <td>12 St &amp; Sinatra Dr N</td>\n",
       "      <td>HB201</td>\n",
       "      <td>40.750604</td>\n",
       "      <td>-74.024020</td>\n",
       "      <td>40.750604</td>\n",
       "      <td>-74.024020</td>\n",
       "      <td>member</td>\n",
       "    </tr>\n",
       "  </tbody>\n",
       "</table>\n",
       "</div>"
      ],
      "text/plain": [
       "            ride_id  rideable_type           started_at             ended_at  \\\n",
       "0  CA5837152804D4B5  electric_bike  2022-01-26 18:50:39  2022-01-26 18:51:53   \n",
       "1  BA06A5E45B6601D2   classic_bike  2022-01-28 13:14:07  2022-01-28 13:20:23   \n",
       "2  7B6827D7B9508D93   classic_bike  2022-01-10 19:55:13  2022-01-10 20:00:37   \n",
       "3  6E5864EA6FCEC90D  electric_bike  2022-01-26 07:54:57  2022-01-26 07:55:22   \n",
       "4  E24954255BBDE32D  electric_bike  2022-01-13 18:44:46  2022-01-13 18:45:43   \n",
       "\n",
       "     start_station_name start_station_id      end_station_name end_station_id  \\\n",
       "0  12 St & Sinatra Dr N            HB201  12 St & Sinatra Dr N          HB201   \n",
       "1      Essex Light Rail            JC038      Essex Light Rail          JC038   \n",
       "2      Essex Light Rail            JC038      Essex Light Rail          JC038   \n",
       "3  12 St & Sinatra Dr N            HB201  12 St & Sinatra Dr N          HB201   \n",
       "4  12 St & Sinatra Dr N            HB201  12 St & Sinatra Dr N          HB201   \n",
       "\n",
       "   start_lat  start_lng    end_lat    end_lng member_casual  \n",
       "0  40.750604 -74.024020  40.750604 -74.024020        member  \n",
       "1  40.712774 -74.036486  40.712774 -74.036486        member  \n",
       "2  40.712774 -74.036486  40.712774 -74.036486        member  \n",
       "3  40.750604 -74.024020  40.750604 -74.024020        member  \n",
       "4  40.750604 -74.024020  40.750604 -74.024020        member  "
      ]
     },
     "execution_count": 17,
     "metadata": {},
     "output_type": "execute_result"
    }
   ],
   "source": [
    "raw_df=combined_csv\n",
    "raw_df.head()"
   ]
  },
  {
   "cell_type": "code",
   "execution_count": 18,
   "metadata": {},
   "outputs": [
    {
     "name": "stdout",
     "output_type": "stream",
     "text": [
      "<class 'pandas.core.frame.DataFrame'>\n",
      "Int64Index: 895485 entries, 0 to 48584\n",
      "Data columns (total 13 columns):\n",
      " #   Column              Non-Null Count   Dtype  \n",
      "---  ------              --------------   -----  \n",
      " 0   ride_id             895485 non-null  object \n",
      " 1   rideable_type       895485 non-null  object \n",
      " 2   started_at          895485 non-null  object \n",
      " 3   ended_at            895485 non-null  object \n",
      " 4   start_station_name  895475 non-null  object \n",
      " 5   start_station_id    895475 non-null  object \n",
      " 6   end_station_name    892281 non-null  object \n",
      " 7   end_station_id      892281 non-null  object \n",
      " 8   start_lat           895485 non-null  float64\n",
      " 9   start_lng           895485 non-null  float64\n",
      " 10  end_lat             893515 non-null  float64\n",
      " 11  end_lng             893515 non-null  float64\n",
      " 12  member_casual       895485 non-null  object \n",
      "dtypes: float64(4), object(9)\n",
      "memory usage: 95.6+ MB\n"
     ]
    }
   ],
   "source": [
    "raw_df.info()"
   ]
  },
  {
   "cell_type": "code",
   "execution_count": 19,
   "metadata": {},
   "outputs": [],
   "source": [
    "dfbr= raw_df.dropna()"
   ]
  },
  {
   "cell_type": "code",
   "execution_count": 20,
   "metadata": {},
   "outputs": [
    {
     "name": "stdout",
     "output_type": "stream",
     "text": [
      "<class 'pandas.core.frame.DataFrame'>\n",
      "Int64Index: 892281 entries, 0 to 48584\n",
      "Data columns (total 13 columns):\n",
      " #   Column              Non-Null Count   Dtype  \n",
      "---  ------              --------------   -----  \n",
      " 0   ride_id             892281 non-null  object \n",
      " 1   rideable_type       892281 non-null  object \n",
      " 2   started_at          892281 non-null  object \n",
      " 3   ended_at            892281 non-null  object \n",
      " 4   start_station_name  892281 non-null  object \n",
      " 5   start_station_id    892281 non-null  object \n",
      " 6   end_station_name    892281 non-null  object \n",
      " 7   end_station_id      892281 non-null  object \n",
      " 8   start_lat           892281 non-null  float64\n",
      " 9   start_lng           892281 non-null  float64\n",
      " 10  end_lat             892281 non-null  float64\n",
      " 11  end_lng             892281 non-null  float64\n",
      " 12  member_casual       892281 non-null  object \n",
      "dtypes: float64(4), object(9)\n",
      "memory usage: 95.3+ MB\n"
     ]
    }
   ],
   "source": [
    "dfbr.info()\n"
   ]
  },
  {
   "cell_type": "code",
   "execution_count": 22,
   "metadata": {},
   "outputs": [],
   "source": [
    "dfbr.to_csv( \"City_Bike_2022_TripData.csv\", index=False, encoding='utf-8-sig')"
   ]
  },
  {
   "cell_type": "code",
   "execution_count": null,
   "metadata": {},
   "outputs": [],
   "source": []
  }
 ],
 "metadata": {
  "kernelspec": {
   "display_name": "base",
   "language": "python",
   "name": "python3"
  },
  "language_info": {
   "codemirror_mode": {
    "name": "ipython",
    "version": 3
   },
   "file_extension": ".py",
   "mimetype": "text/x-python",
   "name": "python",
   "nbconvert_exporter": "python",
   "pygments_lexer": "ipython3",
   "version": "3.9.13"
  },
  "orig_nbformat": 4,
  "vscode": {
   "interpreter": {
    "hash": "e7f336f9bec1e74624fa1ea8a759f275624ff514e02e1aa8e3e0a6d78d32a22a"
   }
  }
 },
 "nbformat": 4,
 "nbformat_minor": 2
}
