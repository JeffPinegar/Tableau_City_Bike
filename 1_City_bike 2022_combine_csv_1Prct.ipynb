{
 "cells": [
  {
   "cell_type": "code",
   "execution_count": null,
   "metadata": {},
   "outputs": [],
   "source": [
    "# https://www.freecodecamp.org/news/how-to-combine-multiple-csv-files-with-8-lines-of-code-265183e0854/"
   ]
  },
  {
   "cell_type": "code",
   "execution_count": 45,
   "metadata": {},
   "outputs": [],
   "source": [
    "import os\n",
    "import glob\n",
    "import pandas as pd\n",
    "import datetime as dt"
   ]
  },
  {
   "attachments": {},
   "cell_type": "markdown",
   "metadata": {},
   "source": [
    "---\n",
    "### Read the orginal source data"
   ]
  },
  {
   "cell_type": "code",
   "execution_count": 2,
   "metadata": {},
   "outputs": [],
   "source": [
    "# change the directory to the directory that contains the orginal data set from citi Bike\n",
    "os.chdir(\"./Data/New York Data\")"
   ]
  },
  {
   "cell_type": "code",
   "execution_count": 3,
   "metadata": {},
   "outputs": [
    {
     "data": {
      "text/plain": [
       "['202201-citibike-tripdata.csv',\n",
       " '202202-citibike-tripdata.csv',\n",
       " '202203-citibike-tripdata.csv',\n",
       " '202204-citibike-tripdata.csv',\n",
       " '202205-citibike-tripdata.csv',\n",
       " '202206-citbike-tripdata.csv',\n",
       " '202207-citbike-tripdata.csv',\n",
       " '202208-citibike-tripdata.csv',\n",
       " '202209-citibike-tripdata.csv',\n",
       " '202210-citibike-tripdata.csv',\n",
       " '202211-citibike-tripdata.csv',\n",
       " '202212-citibike-tripdata.csv',\n",
       " 'combined_csv.csv']"
      ]
     },
     "execution_count": 3,
     "metadata": {},
     "output_type": "execute_result"
    }
   ],
   "source": [
    "# build a list of all the data files.  All the CSV files in this folder must be data files.  There can not be any other CSV file\n",
    "extension = 'csv'\n",
    "all_filenames = [i for i in glob.glob('*.{}'.format(extension))]\n",
    "all_filenames"
   ]
  },
  {
   "attachments": {},
   "cell_type": "markdown",
   "metadata": {},
   "source": [
    "---\n",
    "### Clean \"na\" and write out 1% files"
   ]
  },
  {
   "cell_type": "code",
   "execution_count": 4,
   "metadata": {},
   "outputs": [
    {
     "name": "stderr",
     "output_type": "stream",
     "text": [
      "C:\\Users\\jspinega\\AppData\\Local\\Temp\\ipykernel_26484\\3583892385.py:4: DtypeWarning: Columns (5,7) have mixed types. Specify dtype option on import or set low_memory=False.\n",
      "  a = pd.read_csv(f, encoding=\"utf-8\")                        # read in CSV\n",
      "C:\\Users\\jspinega\\AppData\\Local\\Temp\\ipykernel_26484\\3583892385.py:4: DtypeWarning: Columns (5,7) have mixed types. Specify dtype option on import or set low_memory=False.\n",
      "  a = pd.read_csv(f, encoding=\"utf-8\")                        # read in CSV\n",
      "C:\\Users\\jspinega\\AppData\\Local\\Temp\\ipykernel_26484\\3583892385.py:4: DtypeWarning: Columns (5,7) have mixed types. Specify dtype option on import or set low_memory=False.\n",
      "  a = pd.read_csv(f, encoding=\"utf-8\")                        # read in CSV\n",
      "C:\\Users\\jspinega\\AppData\\Local\\Temp\\ipykernel_26484\\3583892385.py:4: DtypeWarning: Columns (5,7) have mixed types. Specify dtype option on import or set low_memory=False.\n",
      "  a = pd.read_csv(f, encoding=\"utf-8\")                        # read in CSV\n",
      "C:\\Users\\jspinega\\AppData\\Local\\Temp\\ipykernel_26484\\3583892385.py:4: DtypeWarning: Columns (5,7) have mixed types. Specify dtype option on import or set low_memory=False.\n",
      "  a = pd.read_csv(f, encoding=\"utf-8\")                        # read in CSV\n",
      "C:\\Users\\jspinega\\AppData\\Local\\Temp\\ipykernel_26484\\3583892385.py:4: DtypeWarning: Columns (5,7) have mixed types. Specify dtype option on import or set low_memory=False.\n",
      "  a = pd.read_csv(f, encoding=\"utf-8\")                        # read in CSV\n",
      "C:\\Users\\jspinega\\AppData\\Local\\Temp\\ipykernel_26484\\3583892385.py:4: DtypeWarning: Columns (5,7) have mixed types. Specify dtype option on import or set low_memory=False.\n",
      "  a = pd.read_csv(f, encoding=\"utf-8\")                        # read in CSV\n",
      "C:\\Users\\jspinega\\AppData\\Local\\Temp\\ipykernel_26484\\3583892385.py:4: DtypeWarning: Columns (5,7) have mixed types. Specify dtype option on import or set low_memory=False.\n",
      "  a = pd.read_csv(f, encoding=\"utf-8\")                        # read in CSV\n",
      "C:\\Users\\jspinega\\AppData\\Local\\Temp\\ipykernel_26484\\3583892385.py:4: DtypeWarning: Columns (5,7) have mixed types. Specify dtype option on import or set low_memory=False.\n",
      "  a = pd.read_csv(f, encoding=\"utf-8\")                        # read in CSV\n",
      "C:\\Users\\jspinega\\AppData\\Local\\Temp\\ipykernel_26484\\3583892385.py:4: DtypeWarning: Columns (5,7) have mixed types. Specify dtype option on import or set low_memory=False.\n",
      "  a = pd.read_csv(f, encoding=\"utf-8\")                        # read in CSV\n",
      "C:\\Users\\jspinega\\AppData\\Local\\Temp\\ipykernel_26484\\3583892385.py:4: DtypeWarning: Columns (5,7) have mixed types. Specify dtype option on import or set low_memory=False.\n",
      "  a = pd.read_csv(f, encoding=\"utf-8\")                        # read in CSV\n",
      "C:\\Users\\jspinega\\AppData\\Local\\Temp\\ipykernel_26484\\3583892385.py:4: DtypeWarning: Columns (5,7) have mixed types. Specify dtype option on import or set low_memory=False.\n",
      "  a = pd.read_csv(f, encoding=\"utf-8\")                        # read in CSV\n",
      "C:\\Users\\jspinega\\AppData\\Local\\Temp\\ipykernel_26484\\3583892385.py:4: DtypeWarning: Columns (5,7) have mixed types. Specify dtype option on import or set low_memory=False.\n",
      "  a = pd.read_csv(f, encoding=\"utf-8\")                        # read in CSV\n"
     ]
    }
   ],
   "source": [
    "# Clean the data and randomly select 1% of the records\n",
    "\n",
    "for f in all_filenames:\n",
    "      #file_one = os.path.join(f) \n",
    "      a = pd.read_csv(f, encoding=\"utf-8\")                        # read in CSV\n",
    "      b = a.dropna()                                              # drop na's\n",
    "      c = b.sample(frac=0.01, replace=True, random_state=1)       # random 1% sample\n",
    "      file_one = os.path.join('.', 'New York Data 1Prct', f)      # Write the files out to a new directory with the same name\n",
    "      c.to_csv( file_one, index=False, encoding='utf-8-sig')      # write the file\n"
   ]
  },
  {
   "attachments": {},
   "cell_type": "markdown",
   "metadata": {},
   "source": [
    "---\n",
    "### Combine the 1% files"
   ]
  },
  {
   "cell_type": "code",
   "execution_count": 13,
   "metadata": {},
   "outputs": [
    {
     "data": {
      "text/plain": [
       "['202201-citibike-tripdata.csv',\n",
       " '202202-citibike-tripdata.csv',\n",
       " '202203-citibike-tripdata.csv',\n",
       " '202204-citibike-tripdata.csv',\n",
       " '202205-citibike-tripdata.csv',\n",
       " '202206-citbike-tripdata.csv',\n",
       " '202207-citbike-tripdata.csv',\n",
       " '202208-citibike-tripdata.csv',\n",
       " '202209-citibike-tripdata.csv',\n",
       " '202210-citibike-tripdata.csv',\n",
       " '202211-citibike-tripdata.csv',\n",
       " '202212-citibike-tripdata.csv']"
      ]
     },
     "execution_count": 13,
     "metadata": {},
     "output_type": "execute_result"
    }
   ],
   "source": [
    "# change the directory to where the cleaned 1% files are located\n",
    "os.chdir(\"../New York Data 1Prct\")\n",
    "\n",
    "# build a list of the 1% files\n",
    "extension = 'csv'\n",
    "all_filenames = [i for i in glob.glob('*.{}'.format(extension))]\n",
    "all_filenames"
   ]
  },
  {
   "cell_type": "code",
   "execution_count": 36,
   "metadata": {},
   "outputs": [],
   "source": [
    "#combine all the 1% iles in the list\n",
    "combined_csv = pd.concat([pd.read_csv(f) for f in all_filenames ])\n",
    "\n",
    "# Export to csv the combined data set.\n",
    "# This data set contains a stratisfied sample of 1% of all the rides that were recored in 2022. \n",
    "# It is stratisfied because we have guaranteed that it represents 1% of each month not simply 1% of the year.\n",
    "combined_csv.to_csv( \"combined_csv.csv\", index=False, encoding='utf-8-sig')"
   ]
  },
  {
   "cell_type": "code",
   "execution_count": 49,
   "metadata": {},
   "outputs": [
    {
     "data": {
      "text/html": [
       "<div>\n",
       "<style scoped>\n",
       "    .dataframe tbody tr th:only-of-type {\n",
       "        vertical-align: middle;\n",
       "    }\n",
       "\n",
       "    .dataframe tbody tr th {\n",
       "        vertical-align: top;\n",
       "    }\n",
       "\n",
       "    .dataframe thead th {\n",
       "        text-align: right;\n",
       "    }\n",
       "</style>\n",
       "<table border=\"1\" class=\"dataframe\">\n",
       "  <thead>\n",
       "    <tr style=\"text-align: right;\">\n",
       "      <th></th>\n",
       "      <th>ride_id</th>\n",
       "      <th>rideable_type</th>\n",
       "      <th>started_at</th>\n",
       "      <th>ended_at</th>\n",
       "      <th>start_station_name</th>\n",
       "      <th>start_station_id</th>\n",
       "      <th>end_station_name</th>\n",
       "      <th>end_station_id</th>\n",
       "      <th>start_lat</th>\n",
       "      <th>start_lng</th>\n",
       "      <th>end_lat</th>\n",
       "      <th>end_lng</th>\n",
       "      <th>member_casual</th>\n",
       "    </tr>\n",
       "  </thead>\n",
       "  <tbody>\n",
       "    <tr>\n",
       "      <th>0</th>\n",
       "      <td>9D145B6BF31BAA44</td>\n",
       "      <td>electric_bike</td>\n",
       "      <td>2022-01-19 15:29:15</td>\n",
       "      <td>2022-01-19 15:50:38</td>\n",
       "      <td>Tompkins Ave &amp; Hopkins St</td>\n",
       "      <td>4850.04</td>\n",
       "      <td>E 20 St &amp; 2 Ave</td>\n",
       "      <td>5971.08</td>\n",
       "      <td>40.699576</td>\n",
       "      <td>-73.947084</td>\n",
       "      <td>40.735877</td>\n",
       "      <td>-73.982050</td>\n",
       "      <td>member</td>\n",
       "    </tr>\n",
       "    <tr>\n",
       "      <th>1</th>\n",
       "      <td>D85648D425D3A941</td>\n",
       "      <td>electric_bike</td>\n",
       "      <td>2022-01-26 16:38:14</td>\n",
       "      <td>2022-01-26 16:48:46</td>\n",
       "      <td>6 Ave &amp; 12 St</td>\n",
       "      <td>3803.05</td>\n",
       "      <td>Grand Ave &amp; Bergen St</td>\n",
       "      <td>4190.06</td>\n",
       "      <td>40.666318</td>\n",
       "      <td>-73.985462</td>\n",
       "      <td>40.678045</td>\n",
       "      <td>-73.962408</td>\n",
       "      <td>member</td>\n",
       "    </tr>\n",
       "    <tr>\n",
       "      <th>2</th>\n",
       "      <td>526FF90AC12FF6F1</td>\n",
       "      <td>classic_bike</td>\n",
       "      <td>2022-01-03 08:31:58</td>\n",
       "      <td>2022-01-03 08:34:57</td>\n",
       "      <td>W 42 St &amp; 6 Ave</td>\n",
       "      <td>6517.08</td>\n",
       "      <td>W 47 St &amp; 6 Ave</td>\n",
       "      <td>6667.04</td>\n",
       "      <td>40.754920</td>\n",
       "      <td>-73.984550</td>\n",
       "      <td>40.758397</td>\n",
       "      <td>-73.982550</td>\n",
       "      <td>member</td>\n",
       "    </tr>\n",
       "    <tr>\n",
       "      <th>3</th>\n",
       "      <td>E661187876A5E48D</td>\n",
       "      <td>classic_bike</td>\n",
       "      <td>2022-01-27 12:50:06</td>\n",
       "      <td>2022-01-27 13:12:56</td>\n",
       "      <td>Kent Ave &amp; S 11 St</td>\n",
       "      <td>5062.01</td>\n",
       "      <td>St James Pl &amp; Oliver St</td>\n",
       "      <td>5238.05</td>\n",
       "      <td>40.707645</td>\n",
       "      <td>-73.968415</td>\n",
       "      <td>40.713079</td>\n",
       "      <td>-73.998512</td>\n",
       "      <td>member</td>\n",
       "    </tr>\n",
       "    <tr>\n",
       "      <th>4</th>\n",
       "      <td>44A97975491D1AF6</td>\n",
       "      <td>classic_bike</td>\n",
       "      <td>2022-01-28 13:36:51</td>\n",
       "      <td>2022-01-28 13:46:33</td>\n",
       "      <td>Lafayette St &amp; Jersey St</td>\n",
       "      <td>5561.06</td>\n",
       "      <td>1 Ave &amp; E 16 St</td>\n",
       "      <td>5779.08</td>\n",
       "      <td>40.724561</td>\n",
       "      <td>-73.995653</td>\n",
       "      <td>40.732219</td>\n",
       "      <td>-73.981656</td>\n",
       "      <td>member</td>\n",
       "    </tr>\n",
       "  </tbody>\n",
       "</table>\n",
       "</div>"
      ],
      "text/plain": [
       "            ride_id  rideable_type           started_at             ended_at  \\\n",
       "0  9D145B6BF31BAA44  electric_bike  2022-01-19 15:29:15  2022-01-19 15:50:38   \n",
       "1  D85648D425D3A941  electric_bike  2022-01-26 16:38:14  2022-01-26 16:48:46   \n",
       "2  526FF90AC12FF6F1   classic_bike  2022-01-03 08:31:58  2022-01-03 08:34:57   \n",
       "3  E661187876A5E48D   classic_bike  2022-01-27 12:50:06  2022-01-27 13:12:56   \n",
       "4  44A97975491D1AF6   classic_bike  2022-01-28 13:36:51  2022-01-28 13:46:33   \n",
       "\n",
       "          start_station_name start_station_id         end_station_name  \\\n",
       "0  Tompkins Ave & Hopkins St          4850.04          E 20 St & 2 Ave   \n",
       "1              6 Ave & 12 St          3803.05    Grand Ave & Bergen St   \n",
       "2            W 42 St & 6 Ave          6517.08          W 47 St & 6 Ave   \n",
       "3         Kent Ave & S 11 St          5062.01  St James Pl & Oliver St   \n",
       "4   Lafayette St & Jersey St          5561.06          1 Ave & E 16 St   \n",
       "\n",
       "  end_station_id  start_lat  start_lng    end_lat    end_lng member_casual  \n",
       "0        5971.08  40.699576 -73.947084  40.735877 -73.982050        member  \n",
       "1        4190.06  40.666318 -73.985462  40.678045 -73.962408        member  \n",
       "2        6667.04  40.754920 -73.984550  40.758397 -73.982550        member  \n",
       "3        5238.05  40.707645 -73.968415  40.713079 -73.998512        member  \n",
       "4        5779.08  40.724561 -73.995653  40.732219 -73.981656        member  "
      ]
     },
     "execution_count": 49,
     "metadata": {},
     "output_type": "execute_result"
    }
   ],
   "source": [
    "# Create a copy of the data frame\n",
    "NYC_1Prct_df=combined_csv.copy(deep=True)\n",
    "NYC_1Prct_df.head()"
   ]
  },
  {
   "cell_type": "code",
   "execution_count": 50,
   "metadata": {},
   "outputs": [
    {
     "name": "stdout",
     "output_type": "stream",
     "text": [
      "<class 'pandas.core.frame.DataFrame'>\n",
      "Int64Index: 306181 entries, 0 to 16444\n",
      "Data columns (total 13 columns):\n",
      " #   Column              Non-Null Count   Dtype  \n",
      "---  ------              --------------   -----  \n",
      " 0   ride_id             306181 non-null  object \n",
      " 1   rideable_type       306181 non-null  object \n",
      " 2   started_at          306181 non-null  object \n",
      " 3   ended_at            306181 non-null  object \n",
      " 4   start_station_name  306181 non-null  object \n",
      " 5   start_station_id    306181 non-null  object \n",
      " 6   end_station_name    306181 non-null  object \n",
      " 7   end_station_id      306181 non-null  object \n",
      " 8   start_lat           306181 non-null  float64\n",
      " 9   start_lng           306181 non-null  float64\n",
      " 10  end_lat             306181 non-null  float64\n",
      " 11  end_lng             306181 non-null  float64\n",
      " 12  member_casual       306181 non-null  object \n",
      "dtypes: float64(4), object(9)\n",
      "memory usage: 32.7+ MB\n"
     ]
    }
   ],
   "source": [
    "# examine the data frame to see the type of data it contains\n",
    "NYC_1Prct_df.info()"
   ]
  },
  {
   "attachments": {},
   "cell_type": "markdown",
   "metadata": {},
   "source": [
    "---\n",
    "### Transform the data"
   ]
  },
  {
   "cell_type": "code",
   "execution_count": 51,
   "metadata": {},
   "outputs": [],
   "source": [
    "# change start time from a string to a datetime\n",
    "NYC_1Prct_df['started_at'] = pd.to_datetime(NYC_1Prct_df['started_at'])\n",
    "\n",
    "# change end time from a string to a datetime\n",
    "NYC_1Prct_df['ended_at'] = pd.to_datetime(NYC_1Prct_df['ended_at'])\n",
    "\n",
    "# Calculate a trip duration\n",
    "NYC_1Prct_df['duration'] = NYC_1Prct_df['ended_at'] - NYC_1Prct_df['started_at']\n",
    "\n",
    "# Convert the duration in datatime to an integer number of seconds\n",
    "NYC_1Prct_df['duration'] = pd.to_timedelta(NYC_1Prct_df['duration']).astype('timedelta64[s]').astype(int)\n",
    "\n",
    "# Create a start Day Of Week (DOW)\n",
    "NYC_1Prct_df['start_DOW'] = NYC_1Prct_df['started_at'].dt.day_name()\n",
    "\n",
    "# Create a end Day Of Week (DOW)\n",
    "NYC_1Prct_df['end_DOW'] = NYC_1Prct_df['ended_at'].dt.day_name()\n",
    "\n",
    "# Create a round trip T/F True if the start station ID == end station ID\n",
    "NYC_1Prct_df['round_trip'] = NYC_1Prct_df['start_station_id'] == NYC_1Prct_df['end_station_id']"
   ]
  },
  {
   "cell_type": "code",
   "execution_count": 55,
   "metadata": {},
   "outputs": [
    {
     "name": "stdout",
     "output_type": "stream",
     "text": [
      "<class 'pandas.core.frame.DataFrame'>\n",
      "Int64Index: 306181 entries, 0 to 16444\n",
      "Data columns (total 17 columns):\n",
      " #   Column              Non-Null Count   Dtype         \n",
      "---  ------              --------------   -----         \n",
      " 0   ride_id             306181 non-null  object        \n",
      " 1   rideable_type       306181 non-null  object        \n",
      " 2   started_at          306181 non-null  datetime64[ns]\n",
      " 3   ended_at            306181 non-null  datetime64[ns]\n",
      " 4   start_station_name  306181 non-null  object        \n",
      " 5   start_station_id    306181 non-null  object        \n",
      " 6   end_station_name    306181 non-null  object        \n",
      " 7   end_station_id      306181 non-null  object        \n",
      " 8   start_lat           306181 non-null  float64       \n",
      " 9   start_lng           306181 non-null  float64       \n",
      " 10  end_lat             306181 non-null  float64       \n",
      " 11  end_lng             306181 non-null  float64       \n",
      " 12  member_casual       306181 non-null  object        \n",
      " 13  duration            306181 non-null  int32         \n",
      " 14  start_DOW           306181 non-null  object        \n",
      " 15  end_DOW             306181 non-null  object        \n",
      " 16  round_trip          306181 non-null  bool          \n",
      "dtypes: bool(1), datetime64[ns](2), float64(4), int32(1), object(9)\n",
      "memory usage: 38.8+ MB\n"
     ]
    }
   ],
   "source": [
    "# check that everything is of the right dtype\n",
    "NYC_1Prct_df.info()"
   ]
  },
  {
   "cell_type": "code",
   "execution_count": 52,
   "metadata": {},
   "outputs": [
    {
     "data": {
      "text/html": [
       "<div>\n",
       "<style scoped>\n",
       "    .dataframe tbody tr th:only-of-type {\n",
       "        vertical-align: middle;\n",
       "    }\n",
       "\n",
       "    .dataframe tbody tr th {\n",
       "        vertical-align: top;\n",
       "    }\n",
       "\n",
       "    .dataframe thead th {\n",
       "        text-align: right;\n",
       "    }\n",
       "</style>\n",
       "<table border=\"1\" class=\"dataframe\">\n",
       "  <thead>\n",
       "    <tr style=\"text-align: right;\">\n",
       "      <th></th>\n",
       "      <th>ride_id</th>\n",
       "      <th>rideable_type</th>\n",
       "      <th>started_at</th>\n",
       "      <th>ended_at</th>\n",
       "      <th>start_station_name</th>\n",
       "      <th>start_station_id</th>\n",
       "      <th>end_station_name</th>\n",
       "      <th>end_station_id</th>\n",
       "      <th>start_lat</th>\n",
       "      <th>start_lng</th>\n",
       "      <th>end_lat</th>\n",
       "      <th>end_lng</th>\n",
       "      <th>member_casual</th>\n",
       "      <th>duration</th>\n",
       "      <th>start_DOW</th>\n",
       "      <th>end_DOW</th>\n",
       "      <th>round_trip</th>\n",
       "    </tr>\n",
       "  </thead>\n",
       "  <tbody>\n",
       "    <tr>\n",
       "      <th>0</th>\n",
       "      <td>9D145B6BF31BAA44</td>\n",
       "      <td>electric_bike</td>\n",
       "      <td>2022-01-19 15:29:15</td>\n",
       "      <td>2022-01-19 15:50:38</td>\n",
       "      <td>Tompkins Ave &amp; Hopkins St</td>\n",
       "      <td>4850.04</td>\n",
       "      <td>E 20 St &amp; 2 Ave</td>\n",
       "      <td>5971.08</td>\n",
       "      <td>40.699576</td>\n",
       "      <td>-73.947084</td>\n",
       "      <td>40.735877</td>\n",
       "      <td>-73.982050</td>\n",
       "      <td>member</td>\n",
       "      <td>1283</td>\n",
       "      <td>Wednesday</td>\n",
       "      <td>Wednesday</td>\n",
       "      <td>False</td>\n",
       "    </tr>\n",
       "    <tr>\n",
       "      <th>1</th>\n",
       "      <td>D85648D425D3A941</td>\n",
       "      <td>electric_bike</td>\n",
       "      <td>2022-01-26 16:38:14</td>\n",
       "      <td>2022-01-26 16:48:46</td>\n",
       "      <td>6 Ave &amp; 12 St</td>\n",
       "      <td>3803.05</td>\n",
       "      <td>Grand Ave &amp; Bergen St</td>\n",
       "      <td>4190.06</td>\n",
       "      <td>40.666318</td>\n",
       "      <td>-73.985462</td>\n",
       "      <td>40.678045</td>\n",
       "      <td>-73.962408</td>\n",
       "      <td>member</td>\n",
       "      <td>632</td>\n",
       "      <td>Wednesday</td>\n",
       "      <td>Wednesday</td>\n",
       "      <td>False</td>\n",
       "    </tr>\n",
       "    <tr>\n",
       "      <th>2</th>\n",
       "      <td>526FF90AC12FF6F1</td>\n",
       "      <td>classic_bike</td>\n",
       "      <td>2022-01-03 08:31:58</td>\n",
       "      <td>2022-01-03 08:34:57</td>\n",
       "      <td>W 42 St &amp; 6 Ave</td>\n",
       "      <td>6517.08</td>\n",
       "      <td>W 47 St &amp; 6 Ave</td>\n",
       "      <td>6667.04</td>\n",
       "      <td>40.754920</td>\n",
       "      <td>-73.984550</td>\n",
       "      <td>40.758397</td>\n",
       "      <td>-73.982550</td>\n",
       "      <td>member</td>\n",
       "      <td>179</td>\n",
       "      <td>Monday</td>\n",
       "      <td>Monday</td>\n",
       "      <td>False</td>\n",
       "    </tr>\n",
       "    <tr>\n",
       "      <th>3</th>\n",
       "      <td>E661187876A5E48D</td>\n",
       "      <td>classic_bike</td>\n",
       "      <td>2022-01-27 12:50:06</td>\n",
       "      <td>2022-01-27 13:12:56</td>\n",
       "      <td>Kent Ave &amp; S 11 St</td>\n",
       "      <td>5062.01</td>\n",
       "      <td>St James Pl &amp; Oliver St</td>\n",
       "      <td>5238.05</td>\n",
       "      <td>40.707645</td>\n",
       "      <td>-73.968415</td>\n",
       "      <td>40.713079</td>\n",
       "      <td>-73.998512</td>\n",
       "      <td>member</td>\n",
       "      <td>1370</td>\n",
       "      <td>Thursday</td>\n",
       "      <td>Thursday</td>\n",
       "      <td>False</td>\n",
       "    </tr>\n",
       "    <tr>\n",
       "      <th>4</th>\n",
       "      <td>44A97975491D1AF6</td>\n",
       "      <td>classic_bike</td>\n",
       "      <td>2022-01-28 13:36:51</td>\n",
       "      <td>2022-01-28 13:46:33</td>\n",
       "      <td>Lafayette St &amp; Jersey St</td>\n",
       "      <td>5561.06</td>\n",
       "      <td>1 Ave &amp; E 16 St</td>\n",
       "      <td>5779.08</td>\n",
       "      <td>40.724561</td>\n",
       "      <td>-73.995653</td>\n",
       "      <td>40.732219</td>\n",
       "      <td>-73.981656</td>\n",
       "      <td>member</td>\n",
       "      <td>582</td>\n",
       "      <td>Friday</td>\n",
       "      <td>Friday</td>\n",
       "      <td>False</td>\n",
       "    </tr>\n",
       "  </tbody>\n",
       "</table>\n",
       "</div>"
      ],
      "text/plain": [
       "            ride_id  rideable_type          started_at            ended_at  \\\n",
       "0  9D145B6BF31BAA44  electric_bike 2022-01-19 15:29:15 2022-01-19 15:50:38   \n",
       "1  D85648D425D3A941  electric_bike 2022-01-26 16:38:14 2022-01-26 16:48:46   \n",
       "2  526FF90AC12FF6F1   classic_bike 2022-01-03 08:31:58 2022-01-03 08:34:57   \n",
       "3  E661187876A5E48D   classic_bike 2022-01-27 12:50:06 2022-01-27 13:12:56   \n",
       "4  44A97975491D1AF6   classic_bike 2022-01-28 13:36:51 2022-01-28 13:46:33   \n",
       "\n",
       "          start_station_name start_station_id         end_station_name  \\\n",
       "0  Tompkins Ave & Hopkins St          4850.04          E 20 St & 2 Ave   \n",
       "1              6 Ave & 12 St          3803.05    Grand Ave & Bergen St   \n",
       "2            W 42 St & 6 Ave          6517.08          W 47 St & 6 Ave   \n",
       "3         Kent Ave & S 11 St          5062.01  St James Pl & Oliver St   \n",
       "4   Lafayette St & Jersey St          5561.06          1 Ave & E 16 St   \n",
       "\n",
       "  end_station_id  start_lat  start_lng    end_lat    end_lng member_casual  \\\n",
       "0        5971.08  40.699576 -73.947084  40.735877 -73.982050        member   \n",
       "1        4190.06  40.666318 -73.985462  40.678045 -73.962408        member   \n",
       "2        6667.04  40.754920 -73.984550  40.758397 -73.982550        member   \n",
       "3        5238.05  40.707645 -73.968415  40.713079 -73.998512        member   \n",
       "4        5779.08  40.724561 -73.995653  40.732219 -73.981656        member   \n",
       "\n",
       "   duration  start_DOW    end_DOW  round_trip  \n",
       "0      1283  Wednesday  Wednesday       False  \n",
       "1       632  Wednesday  Wednesday       False  \n",
       "2       179     Monday     Monday       False  \n",
       "3      1370   Thursday   Thursday       False  \n",
       "4       582     Friday     Friday       False  "
      ]
     },
     "execution_count": 52,
     "metadata": {},
     "output_type": "execute_result"
    }
   ],
   "source": [
    "NYC_1Prct_df.head()"
   ]
  },
  {
   "attachments": {},
   "cell_type": "markdown",
   "metadata": {},
   "source": [
    "---\n",
    "### Write out the transformed data set"
   ]
  },
  {
   "cell_type": "code",
   "execution_count": 54,
   "metadata": {},
   "outputs": [],
   "source": [
    "# Save the data as a CSV file.\n",
    "file_one = os.path.join('City_Bike_2022_TripData_augmented_1P.csv')      # define filename\n",
    "NYC_1Prct_df.to_csv( file_one, index=False, encoding='utf-8-sig')"
   ]
  },
  {
   "cell_type": "code",
   "execution_count": null,
   "metadata": {},
   "outputs": [],
   "source": []
  },
  {
   "cell_type": "code",
   "execution_count": null,
   "metadata": {},
   "outputs": [],
   "source": []
  }
 ],
 "metadata": {
  "kernelspec": {
   "display_name": "base",
   "language": "python",
   "name": "python3"
  },
  "language_info": {
   "codemirror_mode": {
    "name": "ipython",
    "version": 3
   },
   "file_extension": ".py",
   "mimetype": "text/x-python",
   "name": "python",
   "nbconvert_exporter": "python",
   "pygments_lexer": "ipython3",
   "version": "3.9.13"
  },
  "orig_nbformat": 4,
  "vscode": {
   "interpreter": {
    "hash": "e7f336f9bec1e74624fa1ea8a759f275624ff514e02e1aa8e3e0a6d78d32a22a"
   }
  }
 },
 "nbformat": 4,
 "nbformat_minor": 2
}
