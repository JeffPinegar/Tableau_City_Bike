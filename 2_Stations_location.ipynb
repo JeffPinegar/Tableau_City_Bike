{
 "cells": [
  {
   "attachments": {},
   "cell_type": "markdown",
   "metadata": {},
   "source": [
    "# Locate Stations\n",
    "Each record in the 1% data set contains a start an stop location for the bike.  Using averaging this data I am creating a location for the station.  This way when plotting rides the data point will plot to the same spot rather than creating a \"fuzy cloud\" where the station is located.\n",
    "* Calculate (longitudes and latitudes) for each station base on average for all the records that either started on ended at that station\n",
    "* Create a CSV file of station locations.  Each record has Station_ID, lat, and Lng\n",
    "* This csv / data frame will be joined with 1% files createing a new variable for the start stop location.\n",
    "* THIS DATA WAS COMBINED USING AN EXCEL FILE AND XLOOKUP"
   ]
  },
  {
   "cell_type": "code",
   "execution_count": 6,
   "metadata": {},
   "outputs": [],
   "source": [
    "import os\n",
    "import pandas as pd"
   ]
  },
  {
   "attachments": {},
   "cell_type": "markdown",
   "metadata": {},
   "source": [
    "---\n",
    "### Load the 1% data file"
   ]
  },
  {
   "cell_type": "code",
   "execution_count": 7,
   "metadata": {},
   "outputs": [
    {
     "name": "stderr",
     "output_type": "stream",
     "text": [
      "C:\\Users\\jspinega\\AppData\\Local\\Temp\\ipykernel_14384\\377296711.py:4: DtypeWarning: Columns (5,7) have mixed types. Specify dtype option on import or set low_memory=False.\n",
      "  bddf = pd.read_csv(file_one, encoding=\"utf-8\")                     # Opens the CVS file and read it in as a panda dataframe\n"
     ]
    }
   ],
   "source": [
    "# file_one = \"Resources/DataOne.csv\"\n",
    "file_one = os.path.join('.','Data', 'New York Data','New York Data 1Prct', 'City_Bike_2022_TripData_augmented_1P.csv')            # In this example my Jupyter notebook is in the current directory \" . \"\n",
    "                                                                    # There is a sub directory \"Resources\" and a file there \"Olympics.csv\"\n",
    "bddf = pd.read_csv(file_one, encoding=\"utf-8\")                     # Opens the CVS file and read it in as a panda dataframe \n"
   ]
  },
  {
   "cell_type": "code",
   "execution_count": 3,
   "metadata": {},
   "outputs": [
    {
     "data": {
      "text/html": [
       "<div>\n",
       "<style scoped>\n",
       "    .dataframe tbody tr th:only-of-type {\n",
       "        vertical-align: middle;\n",
       "    }\n",
       "\n",
       "    .dataframe tbody tr th {\n",
       "        vertical-align: top;\n",
       "    }\n",
       "\n",
       "    .dataframe thead th {\n",
       "        text-align: right;\n",
       "    }\n",
       "</style>\n",
       "<table border=\"1\" class=\"dataframe\">\n",
       "  <thead>\n",
       "    <tr style=\"text-align: right;\">\n",
       "      <th></th>\n",
       "      <th>ride_id</th>\n",
       "      <th>rideable_type</th>\n",
       "      <th>started_at</th>\n",
       "      <th>ended_at</th>\n",
       "      <th>start_station_name</th>\n",
       "      <th>start_station_id</th>\n",
       "      <th>end_station_name</th>\n",
       "      <th>end_station_id</th>\n",
       "      <th>start_lat</th>\n",
       "      <th>start_lng</th>\n",
       "      <th>end_lat</th>\n",
       "      <th>end_lng</th>\n",
       "      <th>member_casual</th>\n",
       "      <th>duration</th>\n",
       "      <th>start_DOW</th>\n",
       "      <th>end_DOW</th>\n",
       "      <th>round_trip</th>\n",
       "    </tr>\n",
       "  </thead>\n",
       "  <tbody>\n",
       "    <tr>\n",
       "      <th>0</th>\n",
       "      <td>9D145B6BF31BAA44</td>\n",
       "      <td>electric_bike</td>\n",
       "      <td>2022-01-19 15:29:15</td>\n",
       "      <td>2022-01-19 15:50:38</td>\n",
       "      <td>Tompkins Ave &amp; Hopkins St</td>\n",
       "      <td>4850.04</td>\n",
       "      <td>E 20 St &amp; 2 Ave</td>\n",
       "      <td>5971.08</td>\n",
       "      <td>40.699576</td>\n",
       "      <td>-73.947084</td>\n",
       "      <td>40.735877</td>\n",
       "      <td>-73.982050</td>\n",
       "      <td>member</td>\n",
       "      <td>1283</td>\n",
       "      <td>Wednesday</td>\n",
       "      <td>Wednesday</td>\n",
       "      <td>False</td>\n",
       "    </tr>\n",
       "    <tr>\n",
       "      <th>1</th>\n",
       "      <td>D85648D425D3A941</td>\n",
       "      <td>electric_bike</td>\n",
       "      <td>2022-01-26 16:38:14</td>\n",
       "      <td>2022-01-26 16:48:46</td>\n",
       "      <td>6 Ave &amp; 12 St</td>\n",
       "      <td>3803.05</td>\n",
       "      <td>Grand Ave &amp; Bergen St</td>\n",
       "      <td>4190.06</td>\n",
       "      <td>40.666318</td>\n",
       "      <td>-73.985462</td>\n",
       "      <td>40.678045</td>\n",
       "      <td>-73.962408</td>\n",
       "      <td>member</td>\n",
       "      <td>632</td>\n",
       "      <td>Wednesday</td>\n",
       "      <td>Wednesday</td>\n",
       "      <td>False</td>\n",
       "    </tr>\n",
       "    <tr>\n",
       "      <th>2</th>\n",
       "      <td>526FF90AC12FF6F1</td>\n",
       "      <td>classic_bike</td>\n",
       "      <td>2022-01-03 08:31:58</td>\n",
       "      <td>2022-01-03 08:34:57</td>\n",
       "      <td>W 42 St &amp; 6 Ave</td>\n",
       "      <td>6517.08</td>\n",
       "      <td>W 47 St &amp; 6 Ave</td>\n",
       "      <td>6667.04</td>\n",
       "      <td>40.754920</td>\n",
       "      <td>-73.984550</td>\n",
       "      <td>40.758397</td>\n",
       "      <td>-73.982550</td>\n",
       "      <td>member</td>\n",
       "      <td>179</td>\n",
       "      <td>Monday</td>\n",
       "      <td>Monday</td>\n",
       "      <td>False</td>\n",
       "    </tr>\n",
       "    <tr>\n",
       "      <th>3</th>\n",
       "      <td>E661187876A5E48D</td>\n",
       "      <td>classic_bike</td>\n",
       "      <td>2022-01-27 12:50:06</td>\n",
       "      <td>2022-01-27 13:12:56</td>\n",
       "      <td>Kent Ave &amp; S 11 St</td>\n",
       "      <td>5062.01</td>\n",
       "      <td>St James Pl &amp; Oliver St</td>\n",
       "      <td>5238.05</td>\n",
       "      <td>40.707645</td>\n",
       "      <td>-73.968415</td>\n",
       "      <td>40.713079</td>\n",
       "      <td>-73.998512</td>\n",
       "      <td>member</td>\n",
       "      <td>1370</td>\n",
       "      <td>Thursday</td>\n",
       "      <td>Thursday</td>\n",
       "      <td>False</td>\n",
       "    </tr>\n",
       "    <tr>\n",
       "      <th>4</th>\n",
       "      <td>44A97975491D1AF6</td>\n",
       "      <td>classic_bike</td>\n",
       "      <td>2022-01-28 13:36:51</td>\n",
       "      <td>2022-01-28 13:46:33</td>\n",
       "      <td>Lafayette St &amp; Jersey St</td>\n",
       "      <td>5561.06</td>\n",
       "      <td>1 Ave &amp; E 16 St</td>\n",
       "      <td>5779.08</td>\n",
       "      <td>40.724561</td>\n",
       "      <td>-73.995653</td>\n",
       "      <td>40.732219</td>\n",
       "      <td>-73.981656</td>\n",
       "      <td>member</td>\n",
       "      <td>582</td>\n",
       "      <td>Friday</td>\n",
       "      <td>Friday</td>\n",
       "      <td>False</td>\n",
       "    </tr>\n",
       "  </tbody>\n",
       "</table>\n",
       "</div>"
      ],
      "text/plain": [
       "            ride_id  rideable_type           started_at             ended_at  \\\n",
       "0  9D145B6BF31BAA44  electric_bike  2022-01-19 15:29:15  2022-01-19 15:50:38   \n",
       "1  D85648D425D3A941  electric_bike  2022-01-26 16:38:14  2022-01-26 16:48:46   \n",
       "2  526FF90AC12FF6F1   classic_bike  2022-01-03 08:31:58  2022-01-03 08:34:57   \n",
       "3  E661187876A5E48D   classic_bike  2022-01-27 12:50:06  2022-01-27 13:12:56   \n",
       "4  44A97975491D1AF6   classic_bike  2022-01-28 13:36:51  2022-01-28 13:46:33   \n",
       "\n",
       "          start_station_name start_station_id         end_station_name  \\\n",
       "0  Tompkins Ave & Hopkins St          4850.04          E 20 St & 2 Ave   \n",
       "1              6 Ave & 12 St          3803.05    Grand Ave & Bergen St   \n",
       "2            W 42 St & 6 Ave          6517.08          W 47 St & 6 Ave   \n",
       "3         Kent Ave & S 11 St          5062.01  St James Pl & Oliver St   \n",
       "4   Lafayette St & Jersey St          5561.06          1 Ave & E 16 St   \n",
       "\n",
       "  end_station_id  start_lat  start_lng    end_lat    end_lng member_casual  \\\n",
       "0        5971.08  40.699576 -73.947084  40.735877 -73.982050        member   \n",
       "1        4190.06  40.666318 -73.985462  40.678045 -73.962408        member   \n",
       "2        6667.04  40.754920 -73.984550  40.758397 -73.982550        member   \n",
       "3        5238.05  40.707645 -73.968415  40.713079 -73.998512        member   \n",
       "4        5779.08  40.724561 -73.995653  40.732219 -73.981656        member   \n",
       "\n",
       "   duration  start_DOW    end_DOW  round_trip  \n",
       "0      1283  Wednesday  Wednesday       False  \n",
       "1       632  Wednesday  Wednesday       False  \n",
       "2       179     Monday     Monday       False  \n",
       "3      1370   Thursday   Thursday       False  \n",
       "4       582     Friday     Friday       False  "
      ]
     },
     "execution_count": 3,
     "metadata": {},
     "output_type": "execute_result"
    }
   ],
   "source": [
    "bddf.head()\n"
   ]
  },
  {
   "cell_type": "code",
   "execution_count": 17,
   "metadata": {},
   "outputs": [],
   "source": [
    "# create a data frame of only the starting locations with their longitudes and latitudes\n",
    "start_df = bddf[['start_station_id','start_lat', 'start_lng']]"
   ]
  },
  {
   "cell_type": "code",
   "execution_count": 18,
   "metadata": {},
   "outputs": [],
   "source": [
    "# create a data frame of only the ending locations with their longitudes and latitudes\n",
    "end_df = bddf[['end_station_id','end_lat', 'end_lng']]"
   ]
  },
  {
   "cell_type": "code",
   "execution_count": 19,
   "metadata": {},
   "outputs": [],
   "source": [
    "# rename the column headings\n",
    "station1_df = start_df.rename(columns={'start_station_id': 'station_ID','start_lat':'station_lat', 'start_lng':'station_log'})\n",
    "station2_df = end_df.rename(columns={'end_station_id': 'station_ID','end_lat':'station_lat', 'end_lng':'station_log'})"
   ]
  },
  {
   "cell_type": "code",
   "execution_count": 20,
   "metadata": {},
   "outputs": [
    {
     "name": "stderr",
     "output_type": "stream",
     "text": [
      "C:\\Users\\jspinega\\AppData\\Local\\Temp\\ipykernel_14384\\1649270471.py:1: FutureWarning: The frame.append method is deprecated and will be removed from pandas in a future version. Use pandas.concat instead.\n",
      "  merge_df = station1_df.append(station2_df)\n"
     ]
    }
   ],
   "source": [
    "# merge the starting and ending station into a single data frame\n",
    "merge_df = station1_df.append(station2_df)"
   ]
  },
  {
   "cell_type": "code",
   "execution_count": 21,
   "metadata": {},
   "outputs": [
    {
     "data": {
      "text/html": [
       "<div>\n",
       "<style scoped>\n",
       "    .dataframe tbody tr th:only-of-type {\n",
       "        vertical-align: middle;\n",
       "    }\n",
       "\n",
       "    .dataframe tbody tr th {\n",
       "        vertical-align: top;\n",
       "    }\n",
       "\n",
       "    .dataframe thead th {\n",
       "        text-align: right;\n",
       "    }\n",
       "</style>\n",
       "<table border=\"1\" class=\"dataframe\">\n",
       "  <thead>\n",
       "    <tr style=\"text-align: right;\">\n",
       "      <th></th>\n",
       "      <th>station_ID</th>\n",
       "      <th>station_lat</th>\n",
       "      <th>station_log</th>\n",
       "    </tr>\n",
       "  </thead>\n",
       "  <tbody>\n",
       "    <tr>\n",
       "      <th>0</th>\n",
       "      <td>4850.04</td>\n",
       "      <td>40.699576</td>\n",
       "      <td>-73.947084</td>\n",
       "    </tr>\n",
       "    <tr>\n",
       "      <th>1</th>\n",
       "      <td>3803.05</td>\n",
       "      <td>40.666318</td>\n",
       "      <td>-73.985462</td>\n",
       "    </tr>\n",
       "    <tr>\n",
       "      <th>2</th>\n",
       "      <td>6517.08</td>\n",
       "      <td>40.754920</td>\n",
       "      <td>-73.984550</td>\n",
       "    </tr>\n",
       "    <tr>\n",
       "      <th>3</th>\n",
       "      <td>5062.01</td>\n",
       "      <td>40.707645</td>\n",
       "      <td>-73.968415</td>\n",
       "    </tr>\n",
       "    <tr>\n",
       "      <th>4</th>\n",
       "      <td>5561.06</td>\n",
       "      <td>40.724561</td>\n",
       "      <td>-73.995653</td>\n",
       "    </tr>\n",
       "  </tbody>\n",
       "</table>\n",
       "</div>"
      ],
      "text/plain": [
       "  station_ID  station_lat  station_log\n",
       "0    4850.04    40.699576   -73.947084\n",
       "1    3803.05    40.666318   -73.985462\n",
       "2    6517.08    40.754920   -73.984550\n",
       "3    5062.01    40.707645   -73.968415\n",
       "4    5561.06    40.724561   -73.995653"
      ]
     },
     "execution_count": 21,
     "metadata": {},
     "output_type": "execute_result"
    }
   ],
   "source": [
    "merge_df.head()\n"
   ]
  },
  {
   "cell_type": "code",
   "execution_count": 24,
   "metadata": {},
   "outputs": [
    {
     "data": {
      "text/html": [
       "<div>\n",
       "<style scoped>\n",
       "    .dataframe tbody tr th:only-of-type {\n",
       "        vertical-align: middle;\n",
       "    }\n",
       "\n",
       "    .dataframe tbody tr th {\n",
       "        vertical-align: top;\n",
       "    }\n",
       "\n",
       "    .dataframe thead th {\n",
       "        text-align: right;\n",
       "    }\n",
       "</style>\n",
       "<table border=\"1\" class=\"dataframe\">\n",
       "  <thead>\n",
       "    <tr style=\"text-align: right;\">\n",
       "      <th></th>\n",
       "      <th>lat</th>\n",
       "      <th>lng</th>\n",
       "    </tr>\n",
       "    <tr>\n",
       "      <th>station_ID</th>\n",
       "      <th></th>\n",
       "      <th></th>\n",
       "    </tr>\n",
       "  </thead>\n",
       "  <tbody>\n",
       "    <tr>\n",
       "      <th>2733.03</th>\n",
       "      <td>40.633387</td>\n",
       "      <td>-74.016559</td>\n",
       "    </tr>\n",
       "    <tr>\n",
       "      <th>2782.02</th>\n",
       "      <td>40.635747</td>\n",
       "      <td>-74.019941</td>\n",
       "    </tr>\n",
       "    <tr>\n",
       "      <th>2821.05</th>\n",
       "      <td>40.635562</td>\n",
       "      <td>-74.012986</td>\n",
       "    </tr>\n",
       "    <tr>\n",
       "      <th>2832.03</th>\n",
       "      <td>40.637020</td>\n",
       "      <td>-74.022152</td>\n",
       "    </tr>\n",
       "    <tr>\n",
       "      <th>2872.02</th>\n",
       "      <td>40.637669</td>\n",
       "      <td>-74.017818</td>\n",
       "    </tr>\n",
       "  </tbody>\n",
       "</table>\n",
       "</div>"
      ],
      "text/plain": [
       "                  lat        lng\n",
       "station_ID                      \n",
       "2733.03     40.633387 -74.016559\n",
       "2782.02     40.635747 -74.019941\n",
       "2821.05     40.635562 -74.012986\n",
       "2832.03     40.637020 -74.022152\n",
       "2872.02     40.637669 -74.017818"
      ]
     },
     "execution_count": 24,
     "metadata": {},
     "output_type": "execute_result"
    }
   ],
   "source": [
    "# Using Groupby determine calculate the average longitudes and latitudes for each station using both the starting records and ending records\n",
    "groupby_bdf =  merge_df.groupby(['station_ID'])\n",
    "station_lat = groupby_bdf['station_lat'].mean()\n",
    "station_log = groupby_bdf['station_log'].mean()\n",
    "station_loc = pd.DataFrame({'lat':station_lat,'lng':station_log})\n",
    "station_loc.head()"
   ]
  },
  {
   "cell_type": "code",
   "execution_count": 26,
   "metadata": {},
   "outputs": [
    {
     "name": "stdout",
     "output_type": "stream",
     "text": [
      "<class 'pandas.core.frame.DataFrame'>\n",
      "Index: 3530 entries, 2733.03 to SYS038\n",
      "Data columns (total 2 columns):\n",
      " #   Column  Non-Null Count  Dtype  \n",
      "---  ------  --------------  -----  \n",
      " 0   lat     3530 non-null   float64\n",
      " 1   lng     3530 non-null   float64\n",
      "dtypes: float64(2)\n",
      "memory usage: 82.7+ KB\n"
     ]
    }
   ],
   "source": [
    "station_loc.info()\n"
   ]
  },
  {
   "cell_type": "code",
   "execution_count": 28,
   "metadata": {},
   "outputs": [],
   "source": [
    "# create a CSV file that has a single longitude and latitude for each station ID.\n",
    "file_one = os.path.join('.','Data', 'New York Data','New York Data 1Prct', 'City_Bike_station_location.csv') \n",
    "station_loc.to_csv(file_one, index=True, header=True)      "
   ]
  },
  {
   "cell_type": "code",
   "execution_count": null,
   "metadata": {},
   "outputs": [],
   "source": []
  }
 ],
 "metadata": {
  "kernelspec": {
   "display_name": "base",
   "language": "python",
   "name": "python3"
  },
  "language_info": {
   "codemirror_mode": {
    "name": "ipython",
    "version": 3
   },
   "file_extension": ".py",
   "mimetype": "text/x-python",
   "name": "python",
   "nbconvert_exporter": "python",
   "pygments_lexer": "ipython3",
   "version": "3.9.13"
  },
  "orig_nbformat": 4,
  "vscode": {
   "interpreter": {
    "hash": "e7f336f9bec1e74624fa1ea8a759f275624ff514e02e1aa8e3e0a6d78d32a22a"
   }
  }
 },
 "nbformat": 4,
 "nbformat_minor": 2
}
